{
 "cells": [
  {
   "cell_type": "markdown",
   "metadata": {},
   "source": [
    "## 1、函数的参数传递"
   ]
  },
  {
   "cell_type": "code",
   "execution_count": null,
   "metadata": {},
   "outputs": [],
   "source": [
    "a = 1\n",
    "def fun():\n",
    "    a = 2\n",
    "fun()\n",
    "print(a)   # 1"
   ]
  },
  {
   "cell_type": "code",
   "execution_count": null,
   "metadata": {},
   "outputs": [],
   "source": [
    "a = 1\n",
    "def fun():\n",
    "    global a\n",
    "    a = 2\n",
    "fun()\n",
    "print(a)  #2"
   ]
  },
  {
   "cell_type": "markdown",
   "metadata": {},
   "source": [
    "局部变量是临时创建，跳出局部即自动消失，不会更改全局变量的内存地址，如果想要改变全局变量的值，在函数体内调用global + 全局变量引用 所有的变量都可以理解是内存中一个对象的“引用"
   ]
  },
  {
   "cell_type": "code",
   "execution_count": null,
   "metadata": {},
   "outputs": [],
   "source": [
    "a = []\n",
    "def fun(a):\n",
    "    a.append(1)\n",
    "fun(a)\n",
    "print(a) # [1]"
   ]
  },
  {
   "cell_type": "code",
   "execution_count": null,
   "metadata": {},
   "outputs": [],
   "source": [
    "a = 1\n",
    "def fun(a):\n",
    "    print(\"func_in\",id(a))   # func_in 41322472\n",
    "    a = 2\n",
    "    print(\"re-point\",id(a), id(2))   # re-point 41322448 41322448\n",
    "print(\"func_out\",id(a), id(1))  # func_out 41322472 41322472\n",
    "fun(a)\n",
    "print(a)  # 1"
   ]
  },
  {
   "cell_type": "code",
   "execution_count": null,
   "metadata": {},
   "outputs": [],
   "source": [
    "a = []\n",
    "def fun(a):\n",
    "    print(\"func_in\",id(a))  # func_in 53629256\n",
    "    a.append(1)\n",
    "print(\"func_out\",id(a))     # func_out 53629256\n",
    "fun(a)\n",
    "print(a)  # [1]"
   ]
  },
  {
   "cell_type": "markdown",
   "metadata": {},
   "source": [
    "类型是属于对象的，而不是变量。而对象有两种,“可更改”（mutable）与“不可更改”（immutable）对象。在python中，string, tuple, 和number是不可更改的对象，而 list, dict, set 等则是可以修改的对象。(这就是这个问题的重点\n",
    "当一个引用传递给函数的时候,函数自动复制一份引用,这个函数里的引用和外边的引用没有关系.所以第一个例子里函数把引用指向了一个不可变对象,当函数返回的时候,外面的引用不起作用.而第二个例子就不一样了,函数内的引用指向的是可变对象,对它的操作就和定位了指针地址一样,在内存里进行修改."
   ]
  },
  {
   "cell_type": "markdown",
   "metadata": {},
   "source": [
    "##  2、@staticmethod和@classmethod"
   ]
  },
  {
   "cell_type": "code",
   "execution_count": 23,
   "metadata": {},
   "outputs": [
    {
     "name": "stdout",
     "output_type": "stream",
     "text": [
      "log is enabled\n"
     ]
    }
   ],
   "source": [
    "def foo(x):\n",
    "    print(\"executing foo(%s)\" % x)\n",
    "\n",
    "class A(object):\n",
    "    name = \"Snowball\"\n",
    "    \n",
    "    # 初始化\n",
    "    def __init__(self):\n",
    "        pass\n",
    "    # 实例方法\n",
    "    def foo(self):\n",
    "        print(\"executing foo %s\" % (self.name))\n",
    "    # 类方法\n",
    "    @classmethod\n",
    "    def class_foo(cls):\n",
    "        print(\"executing foo %s\" % (cls.name))\n",
    "        \n",
    "    @staticmethod\n",
    "    def static_foo():\n",
    "        log_enabled = \"日志文件\"\n",
    "        if log_enabled:\n",
    "            print(\"log is enabled\")\n",
    "        else:\n",
    "            print(\"log is disabled\")\n",
    "# a = A()\n",
    "# a.foo()\n",
    "# A.class_foo()\n",
    "A.static_foo()"
   ]
  },
  {
   "cell_type": "markdown",
   "metadata": {},
   "source": [
    "当我们需要和类直接进行交互，而不需要和实例进行交互时，类方法是最好的选择。类方法与实例方法类似，但是传递的不是类的实例，而是类本身，第一个参数是cls。我们可以用类的实例调用类方法，也可以直接用类名来调用。\n",
    "1、实例方法：当调用实例方法的时候，需要1、实例化a = A()2、调用实例方法a.foo()\n",
    "2、类方法：当调用类方法的时候，可以直接类名.类方法的方式A.class_foo()\n",
    "\n",
    "静态方法类似普通方法，参数里面不用self。这些方法和类相关，但是又不需要类和实例中的任何信息、属性等等。如果把这些方法写到类外面，这样就把和类相关的代码分散到类外，使得之后对于代码的理解和维护都是巨大的障碍。而静态方法就是用来解决这一类问题的。\n",
    "比如我们检查是否开启了日志功能，这个和类相关，但是跟类的属性和实例都没有关系。\n",
    "3、类方法：可以直接类名.类方法的方式A.static_foo()"
   ]
  },
  {
   "cell_type": "code",
   "execution_count": null,
   "metadata": {},
   "outputs": [],
   "source": [
    "    "
   ]
  }
 ],
 "metadata": {
  "kernelspec": {
   "display_name": "Python 3",
   "language": "python",
   "name": "python3"
  },
  "language_info": {
   "codemirror_mode": {
    "name": "ipython",
    "version": 3
   },
   "file_extension": ".py",
   "mimetype": "text/x-python",
   "name": "python",
   "nbconvert_exporter": "python",
   "pygments_lexer": "ipython3",
   "version": "3.7.6"
  }
 },
 "nbformat": 4,
 "nbformat_minor": 4
}
